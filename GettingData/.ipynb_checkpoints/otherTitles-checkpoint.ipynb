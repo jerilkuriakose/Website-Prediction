{
 "cells": [
  {
   "cell_type": "code",
   "execution_count": 32,
   "metadata": {
    "collapsed": true
   },
   "outputs": [],
   "source": [
    "from lxml import etree\n",
    "import pandas as pd\n",
    "import lxml\n",
    "import requests\n",
    "import warnings\n",
    "import csv\n",
    "import re\n",
    "warnings.filterwarnings(\"ignore\")"
   ]
  },
  {
   "cell_type": "code",
   "execution_count": 27,
   "metadata": {
    "collapsed": true
   },
   "outputs": [],
   "source": [
    "urls = ['http://5000best.com/websites/Commerce/',\n",
    "       'http://5000best.com/websites/Commerce/2/',\n",
    "       'http://5000best.com/websites/Commerce/3/',\n",
    "       'http://5000best.com/websites/Commerce/4/',\n",
    "       'http://5000best.com/websites/Commerce/5/']"
   ]
  },
  {
   "cell_type": "code",
   "execution_count": 6,
   "metadata": {
    "collapsed": true
   },
   "outputs": [],
   "source": [
    "r = requests.get('http://5000best.com/websites/Commerce/')"
   ]
  },
  {
   "cell_type": "code",
   "execution_count": 7,
   "metadata": {
    "collapsed": true
   },
   "outputs": [],
   "source": [
    "from bs4 import BeautifulSoup"
   ]
  },
  {
   "cell_type": "code",
   "execution_count": 8,
   "metadata": {
    "collapsed": true
   },
   "outputs": [],
   "source": [
    "soup = BeautifulSoup(r.content, 'lxml')"
   ]
  },
  {
   "cell_type": "code",
   "execution_count": 15,
   "metadata": {
    "collapsed": false
   },
   "outputs": [],
   "source": [
    "rows = soup.find_all(\"tr\")"
   ]
  },
  {
   "cell_type": "code",
   "execution_count": 26,
   "metadata": {
    "collapsed": false
   },
   "outputs": [
    {
     "name": "stdout",
     "output_type": "stream",
     "text": [
      "http://amazon.com\n"
     ]
    }
   ],
   "source": [
    "for row in rows[1:]:\n",
    "    print row.find_all('td')[4].find('a', href=True)['href']"
   ]
  },
  {
   "cell_type": "code",
   "execution_count": 29,
   "metadata": {
    "collapsed": false
   },
   "outputs": [],
   "source": [
    "links = []\n",
    "for url in urls:\n",
    "    r = requests.get(url)\n",
    "    soup = BeautifulSoup(r.content, 'lxml')\n",
    "    rows = soup.find_all(\"tr\")\n",
    "    for row in rows[1:]:\n",
    "        links.append(row.find_all('td')[4].find('a', href=True)['href'])"
   ]
  },
  {
   "cell_type": "code",
   "execution_count": 33,
   "metadata": {
    "collapsed": false
   },
   "outputs": [],
   "source": [
    "with open('data/5000sites_ecom.csv', 'wb') as myfile:\n",
    "    wr = csv.writer(myfile)\n",
    "    for link in links:\n",
    "        wr.writerow([link.lower()])"
   ]
  },
  {
   "cell_type": "code",
   "execution_count": 34,
   "metadata": {
    "collapsed": true
   },
   "outputs": [],
   "source": [
    "urls_other = ['http://5000best.com/websites/Games/',\n",
    "    'http://5000best.com/websites/Sport/',\n",
    "    'http://5000best.com/websites/Discovery/',\n",
    "    'http://5000best.com/websites/Movies/',\n",
    "    'http://5000best.com/websites/Business/',\n",
    "    'http://5000best.com/websites/Technology/',\n",
    "    'http://5000best.com/websites/Services/',\n",
    "]"
   ]
  },
  {
   "cell_type": "code",
   "execution_count": 35,
   "metadata": {
    "collapsed": true
   },
   "outputs": [],
   "source": [
    "links = []\n",
    "for url in urls_other:\n",
    "    r = requests.get(url)\n",
    "    soup = BeautifulSoup(r.content, 'lxml')\n",
    "    rows = soup.find_all(\"tr\")\n",
    "    for row in rows[1:]:\n",
    "        links.append(row.find_all('td')[4].find('a', href=True)['href'])"
   ]
  },
  {
   "cell_type": "code",
   "execution_count": 36,
   "metadata": {
    "collapsed": true
   },
   "outputs": [],
   "source": [
    "with open('data/5000sites_other.csv', 'wb') as myfile:\n",
    "    wr = csv.writer(myfile)\n",
    "    for link in links:\n",
    "        wr.writerow([link.lower()])"
   ]
  },
  {
   "cell_type": "code",
   "execution_count": null,
   "metadata": {
    "collapsed": true
   },
   "outputs": [],
   "source": []
  }
 ],
 "metadata": {
  "kernelspec": {
   "display_name": "Python 2",
   "language": "python",
   "name": "python2"
  },
  "language_info": {
   "codemirror_mode": {
    "name": "ipython",
    "version": 2
   },
   "file_extension": ".py",
   "mimetype": "text/x-python",
   "name": "python",
   "nbconvert_exporter": "python",
   "pygments_lexer": "ipython2",
   "version": "2.7.12"
  }
 },
 "nbformat": 4,
 "nbformat_minor": 2
}
