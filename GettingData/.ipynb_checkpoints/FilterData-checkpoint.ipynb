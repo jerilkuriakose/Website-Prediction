{
 "cells": [
  {
   "cell_type": "code",
   "execution_count": 1,
   "metadata": {
    "collapsed": false
   },
   "outputs": [],
   "source": [
    "import pandas as pd\n",
    "pd.set_option('display.max_rows', 10)"
   ]
  },
  {
   "cell_type": "markdown",
   "metadata": {},
   "source": [
    "Read the JSON files"
   ]
  },
  {
   "cell_type": "code",
   "execution_count": 2,
   "metadata": {
    "collapsed": false
   },
   "outputs": [],
   "source": [
    "df_comm = pd.read_json('gettitle/titlesComm.json')\n",
    "df_other = pd.read_json('gettitle/titlesOther.json') "
   ]
  },
  {
   "cell_type": "markdown",
   "metadata": {},
   "source": [
    "Append two dataframes"
   ]
  },
  {
   "cell_type": "code",
   "execution_count": 3,
   "metadata": {
    "collapsed": true
   },
   "outputs": [],
   "source": [
    "df = df_comm.append(df_other, ignore_index=True)"
   ]
  },
  {
   "cell_type": "code",
   "execution_count": 4,
   "metadata": {
    "collapsed": false
   },
   "outputs": [
    {
     "data": {
      "text/html": [
       "<div>\n",
       "<table border=\"1\" class=\"dataframe\">\n",
       "  <thead>\n",
       "    <tr style=\"text-align: right;\">\n",
       "      <th></th>\n",
       "      <th>result</th>\n",
       "      <th>title</th>\n",
       "      <th>url</th>\n",
       "    </tr>\n",
       "  </thead>\n",
       "  <tbody>\n",
       "    <tr>\n",
       "      <th>0</th>\n",
       "      <td>commerce</td>\n",
       "      <td>Online Shopping: Buy Women Apparel, Sarees, Su...</td>\n",
       "      <td>https://indiarush.com/</td>\n",
       "    </tr>\n",
       "    <tr>\n",
       "      <th>1</th>\n",
       "      <td>commerce</td>\n",
       "      <td>Online Shopping Site - Shop Online for Men, Wo...</td>\n",
       "      <td>http://www.myntra.com</td>\n",
       "    </tr>\n",
       "    <tr>\n",
       "      <th>2</th>\n",
       "      <td>commerce</td>\n",
       "      <td>None</td>\n",
       "      <td>http://www.askmebazaar.com/</td>\n",
       "    </tr>\n",
       "    <tr>\n",
       "      <th>3</th>\n",
       "      <td>commerce</td>\n",
       "      <td>Online Shopping: Shop Online for Mobiles, Book...</td>\n",
       "      <td>http://www.amazon.in</td>\n",
       "    </tr>\n",
       "    <tr>\n",
       "      <th>4</th>\n",
       "      <td>commerce</td>\n",
       "      <td>Prozo Business</td>\n",
       "      <td>http://www.prozo.com</td>\n",
       "    </tr>\n",
       "    <tr>\n",
       "      <th>...</th>\n",
       "      <td>...</td>\n",
       "      <td>...</td>\n",
       "      <td>...</td>\n",
       "    </tr>\n",
       "    <tr>\n",
       "      <th>1169</th>\n",
       "      <td>other</td>\n",
       "      <td>Anonymouse.org</td>\n",
       "      <td>http://anonymouse.org</td>\n",
       "    </tr>\n",
       "    <tr>\n",
       "      <th>1170</th>\n",
       "      <td>other</td>\n",
       "      <td>Pitney Bowes US | Digital Commerce, BI, Shippi...</td>\n",
       "      <td>http://www.pitneybowes.com/us</td>\n",
       "    </tr>\n",
       "    <tr>\n",
       "      <th>1171</th>\n",
       "      <td>other</td>\n",
       "      <td>TracFone Wireless | Prepaid Cell Phone | Pay A...</td>\n",
       "      <td>http://www.tracfone.com/</td>\n",
       "    </tr>\n",
       "    <tr>\n",
       "      <th>1172</th>\n",
       "      <td>other</td>\n",
       "      <td>Hushmail - Enhanced email security to keep you...</td>\n",
       "      <td>https://www.hushmail.com/</td>\n",
       "    </tr>\n",
       "    <tr>\n",
       "      <th>1173</th>\n",
       "      <td>other</td>\n",
       "      <td>Lumen</td>\n",
       "      <td>https://lumendatabase.org/</td>\n",
       "    </tr>\n",
       "  </tbody>\n",
       "</table>\n",
       "<p>1174 rows × 3 columns</p>\n",
       "</div>"
      ],
      "text/plain": [
       "        result                                              title  \\\n",
       "0     commerce  Online Shopping: Buy Women Apparel, Sarees, Su...   \n",
       "1     commerce  Online Shopping Site - Shop Online for Men, Wo...   \n",
       "2     commerce                                               None   \n",
       "3     commerce  Online Shopping: Shop Online for Mobiles, Book...   \n",
       "4     commerce                                     Prozo Business   \n",
       "...        ...                                                ...   \n",
       "1169     other                                     Anonymouse.org   \n",
       "1170     other  Pitney Bowes US | Digital Commerce, BI, Shippi...   \n",
       "1171     other  TracFone Wireless | Prepaid Cell Phone | Pay A...   \n",
       "1172     other  Hushmail - Enhanced email security to keep you...   \n",
       "1173     other                                              Lumen   \n",
       "\n",
       "                                url  \n",
       "0            https://indiarush.com/  \n",
       "1             http://www.myntra.com  \n",
       "2       http://www.askmebazaar.com/  \n",
       "3              http://www.amazon.in  \n",
       "4              http://www.prozo.com  \n",
       "...                             ...  \n",
       "1169          http://anonymouse.org  \n",
       "1170  http://www.pitneybowes.com/us  \n",
       "1171       http://www.tracfone.com/  \n",
       "1172      https://www.hushmail.com/  \n",
       "1173     https://lumendatabase.org/  \n",
       "\n",
       "[1174 rows x 3 columns]"
      ]
     },
     "execution_count": 4,
     "metadata": {},
     "output_type": "execute_result"
    }
   ],
   "source": [
    "df"
   ]
  },
  {
   "cell_type": "markdown",
   "metadata": {},
   "source": [
    "Remove whitespaces, tabs from the begining and end"
   ]
  },
  {
   "cell_type": "code",
   "execution_count": 5,
   "metadata": {
    "collapsed": false
   },
   "outputs": [],
   "source": [
    "df['title'] = df['title'].str.lstrip()\n",
    "df['title'] = df['title'].str.rstrip()\n",
    "df.dropna(inplace=True)"
   ]
  },
  {
   "cell_type": "markdown",
   "metadata": {},
   "source": [
    "Save dataframe to 'pkl'"
   ]
  },
  {
   "cell_type": "code",
   "execution_count": 6,
   "metadata": {
    "collapsed": true
   },
   "outputs": [],
   "source": [
    "df.to_pickle('data/filtered.pkl')"
   ]
  }
 ],
 "metadata": {
  "kernelspec": {
   "display_name": "Python 2",
   "language": "python",
   "name": "python2"
  },
  "language_info": {
   "codemirror_mode": {
    "name": "ipython",
    "version": 2
   },
   "file_extension": ".py",
   "mimetype": "text/x-python",
   "name": "python",
   "nbconvert_exporter": "python",
   "pygments_lexer": "ipython2",
   "version": "2.7.12"
  }
 },
 "nbformat": 4,
 "nbformat_minor": 2
}
